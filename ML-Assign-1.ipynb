{
 "cells": [
  {
   "cell_type": "code",
   "execution_count": 17,
   "id": "df0a3e63",
   "metadata": {},
   "outputs": [
    {
     "name": "stdout",
     "output_type": "stream",
     "text": [
      "sorted array: [19, 19, 20, 22, 24, 24, 24, 25, 25, 26]\n",
      "Maximum age: 26\n",
      "Minimum age: 19\n",
      "[19, 19, 19, 20, 22, 24, 24, 24, 25, 25, 26, 26]\n",
      "sorted array [19, 19, 19, 20, 22, 24, 24, 24, 25, 25, 26, 26]\n",
      "Median of the ages list is : 24.0\n",
      "ages array list :  [19, 19, 19, 20, 22, 24, 24, 24, 25, 25, 26, 26]\n",
      "Average age = 22.75\n",
      "min 19 0\n",
      "max 26 6\n",
      "Range :  7\n"
     ]
    }
   ],
   "source": [
    "# 1) Sort the list and find the min and max age\n",
    "# here we declare the function to check for maximum number\n",
    "def max(x):\n",
    "  max = x[0] \n",
    "  for i in x: \n",
    "    if i > max: \n",
    "      max = i\n",
    "  return max\n",
    "\n",
    "# here we declare the function to check for minimum number\n",
    "def min(x):\n",
    "  min = x[0] \n",
    "  for j in x: \n",
    "    if j < min: \n",
    "      min = j \n",
    "  return min\n",
    "\n",
    "#ages array\n",
    "ages = [19, 22, 19, 24, 20, 25, 26, 24, 25, 24]\n",
    "ages.sort()\n",
    "\n",
    "#final output of max and min age\n",
    "print(\"sorted array:\",ages)\n",
    "print(\"Maximum age:\", max(ages))\n",
    "print(\"Minimum age:\", min(ages))\n",
    "\n",
    "#Add the min age and the max age again to the list\n",
    "ages.append(min(ages))\n",
    "ages.append(max(ages))\n",
    "ages.sort()\n",
    "print(ages)\n",
    "\n",
    "#Find the median age (one middle item or two middle items divided by two)\n",
    "print(\"sorted array\",ages)\n",
    "mid = len(ages) // 2\n",
    "res = (ages[mid] + ages[~mid]) / 2\n",
    "  \n",
    "# Printing result\n",
    "print(\"Median of the ages list is : \" + str(res))\n",
    "\n",
    "\n",
    "#Find the average age (sum of all items divided by their number)\n",
    "\n",
    "def Average(ages):\n",
    "    return sum(ages) / len(ages)\n",
    "  \n",
    "# Driver Code\n",
    "average = Average(ages)\n",
    "print(\"ages array list : \",ages)\n",
    "  \n",
    "#average age\n",
    "print(\"Average age =\", round(average, 2))\n",
    "\n",
    "#Find the range of the ages (max minus min)\n",
    "ages = [19, 22, 19, 24, 20, 25, 26, 24, 25, 24]\n",
    "temp = sorted(ages)\n",
    "\n",
    "# sorted list\n",
    "\n",
    "min = temp[0]\n",
    "max = temp[-1]\n",
    "\n",
    "# index -1 will give the last element\n",
    "\n",
    "print (\"min\", min, ages.index(min))\n",
    "print (\"max\", max, ages.index(max))\n",
    "print (\"Range : \", max - min)"
   ]
  },
  {
   "cell_type": "code",
   "execution_count": 4,
   "id": "7462e38b",
   "metadata": {},
   "outputs": [
    {
     "name": "stdout",
     "output_type": "stream",
     "text": [
      "9\n",
      "None\n",
      "united states\n",
      "['mean stack development', 'java', 'machine learning']\n",
      "kansas\n",
      "{'first_name ': 'neeraj reddy', 'last_name': 'allam', 'gender': 'male', 'age': '24', 'marital status': 'single', 'skills': ['mean stack development', 'java', 'machine learning', 'java script'], 'country': 'united states', 'city': 'kansas', 'address': 'overland park', 'students': 'studying'}\n",
      "dict_keys(['first_name ', 'last_name', 'gender', 'age', 'marital status', 'skills', 'country', 'city', 'address'])\n",
      "dict_values(['neeraj reddy', 'allam', 'male', '24', 'single', ['mean stack development', 'java', 'machine learning'], 'united states', 'kansas', 'overland park'])\n"
     ]
    }
   ],
   "source": [
    "#Create an empty dictionary called dog\n",
    "dog = {}\n",
    "\n",
    "#Add name, color, breed, legs, age to the dog dictionary\n",
    "dog = {'name','color','breed','legs','age'}\n",
    "\n",
    "#Create a student dictionary and add first_name, last_name, gender, age, marital status,\n",
    "#skills, country, city and address as keys for the dictionary\n",
    "student = {'first_name','last_name','gender','age','marital status','skills','country','city','address'}\n",
    "\n",
    "#Get the length of the student dictionary\n",
    "student = {'first_name','last_name','gender','age','marital status','skills','country','city','address'}\n",
    "print(len(student))\n",
    "\n",
    "#Get the value of skills and check the data type, it should be a list\n",
    "student = {'first_name ': 'neeraj reddy','last_name': 'allam','gender': 'male','age': '24','marital status': 'single','skills':['mean stack development', 'java', 'machine learning'],'country':'united states','city':'kansas','address':'overland park'}\n",
    "print(student.get('first_name')) \n",
    "print(student.get('country'))    \n",
    "print(student.get('skills')) \n",
    "print(student.get('city'))\n",
    "\n",
    "#Modify the skills values by adding one or two skills\n",
    "student = {'first_name ': 'neeraj reddy','last_name': 'allam','gender': 'male','age': '24','marital status': 'single','skills':['mean stack development', 'java', 'machine learning'],'country':'united states','city':'kansas','address':'overland park'}\n",
    "student['students'] = 'studying'\n",
    "student['skills'].append('java script')\n",
    "print(student)\n",
    "\n",
    "#Get the dictionary keys as a list\n",
    "student = {'first_name ': 'neeraj reddy','last_name': 'allam','gender': 'male','age': '24','marital status': 'single','skills':['mean stack development', 'java', 'machine learning'],'country':'united states','city':'kansas','address':'overland park'}\n",
    "keys = student.keys()\n",
    "print(keys)\n",
    "\n",
    "#Get the dictionary values as a list\n",
    "student = {'first_name ': 'neeraj reddy','last_name': 'allam','gender': 'male','age': '24','marital status': 'single','skills':['mean stack development', 'java', 'machine learning'],'country':'united states','city':'kansas','address':'overland park'}\n",
    "values = student.values()\n",
    "print(values)"
   ]
  },
  {
   "cell_type": "code",
   "execution_count": 5,
   "id": "cfa2326b",
   "metadata": {},
   "outputs": [
    {
     "name": "stdout",
     "output_type": "stream",
     "text": [
      "('rahul', 'varun', 'joseph', 'priyanka', 'satwika', 'anusha')\n",
      "family members: ('papireddy', 'swarna', 'rahul', 'varun', 'joseph', 'priyanka', 'satwika', 'anusha')\n"
     ]
    }
   ],
   "source": [
    "#Create a tuple containing names of your sisters and your brothers (imaginary siblings are fine)\n",
    "cousins1 = ('rahul', 'varun', 'joseph')\n",
    "cousins2 = ('priyanka', 'satwika', 'anusha')\n",
    "\n",
    "#Join brothers and sisters tuples and assign it to siblings\n",
    "cousins1 = ('rahul', 'varun', 'joseph')\n",
    "cousins2 = ('priyanka', 'satwika', 'anusha')\n",
    "siblings = cousins1 + cousins2\n",
    "print(siblings)\n",
    "\n",
    "#How many siblings do you have?\n",
    "len(siblings)\n",
    "\n",
    "#Modify the siblings tuple and add the name of your father and mother and assign it to family_members\n",
    "siblings = (\"papireddy\",\"swarna\")+siblings\n",
    "family_members = siblings\n",
    "print(\"family members:\",family_members)\n",
    "\n"
   ]
  },
  {
   "cell_type": "code",
   "execution_count": 7,
   "id": "840e56ea",
   "metadata": {},
   "outputs": [
    {
     "name": "stdout",
     "output_type": "stream",
     "text": [
      "7\n",
      "['Facebook', 'Google', ' Microsoft', 'Apple', 'IBM', 'Oracle', 'Amazon', 'twitter']\n",
      "['Facebook', 'Google', ' Microsoft', 'Apple', 'IBM', 'Oracle', 'Amazon', 'twitter', 'cognizent', 'paytm']\n",
      "['Facebook', 'Google', ' Microsoft', 'Apple', 'IBM', 'Oracle', 'Amazon', 'twitter', 'cognizent']\n",
      "remove is a method where it shows an error when value does not exist but discard method does not show an error.\n",
      "{19, 20, 22, 24, 25, 26, 27, 28}\n",
      "{19, 20, 22, 24, 25, 26}\n",
      "True\n",
      "False\n",
      "{27, 28}\n",
      "set()\n",
      "set()\n",
      "{19, 22, 24, 25, 26}\n",
      "difference between length of age 3\n"
     ]
    }
   ],
   "source": [
    "#given data set\n",
    "it_companies = [\"Facebook\", \"Google\",\" Microsoft\", \"Apple\", \"IBM\", \"Oracle\", \"Amazon\"]\n",
    "A = {19, 22, 24, 20, 25, 26}\n",
    "B = {19, 22, 20, 25, 26, 24, 28, 27}\n",
    "age = [22, 19, 24, 25, 26, 24, 25, 24]\n",
    "\n",
    "#Find the length of the set it_companies\n",
    "print(len(it_companies))\n",
    "\n",
    "#Add 'Twitter' to it_companies\n",
    "it_companies = [\"Facebook\", \"Google\",\" Microsoft\", \"Apple\", \"IBM\", \"Oracle\", \"Amazon\"]\n",
    "it_companies.append('twitter')\n",
    "print(it_companies)\n",
    "\n",
    "#Insert multiple IT companies at once to the set it_companies\n",
    "it_companies.extend([\"cognizent\",\"paytm\"])\n",
    "print(it_companies)\n",
    "\n",
    "#Remove one of the companies from the set it_companies\n",
    "it_companies.remove('paytm')\n",
    "print(it_companies)\n",
    "\n",
    "#What is the difference between remove and discard\n",
    "print(\"remove is a method where it shows an error when value does not exist but discard method does not show an error.\")\n",
    "\n",
    "#Join A and B\n",
    "a_union_b=A.union(B)\n",
    "print(a_union_b)\n",
    "\n",
    "#Find A intersection B\n",
    "a_intersection_b=A.intersection(B)\n",
    "print(a_intersection_b)\n",
    "\n",
    "#Is A subset of B ?\n",
    "a_subset_b=A.issubset(B)\n",
    "print(a_subset_b)\n",
    "\n",
    "#Are A and B disjoint sets\n",
    "\n",
    "a_disjoint_b = A.isdisjoint(B)\n",
    "print(a_disjoint_b)\n",
    "\n",
    "\n",
    "#What is the symmetric difference between A and B\n",
    "a_symmetric_difference_b = A.symmetric_difference(B)\n",
    "print(a_symmetric_difference_b)\n",
    "\n",
    "#Delete the sets completely\n",
    "A.clear()\n",
    "B.clear()\n",
    "print (A)\n",
    "print (B)\n",
    "\n",
    "#Convert the ages to a set and compare the length of the list and the set.\n",
    "age_set=set(age)\n",
    "print(age_set)\n",
    "print (\"difference between length of age\",len(age)-len(age_set))\n",
    "\n"
   ]
  },
  {
   "cell_type": "code",
   "execution_count": 8,
   "id": "f841433a",
   "metadata": {},
   "outputs": [
    {
     "name": "stdout",
     "output_type": "stream",
     "text": [
      "Enter the radius of a circle: 2\n",
      " Circumference Of a Circle = 12.56\n",
      " Area Of a Circle = 12.56\n"
     ]
    }
   ],
   "source": [
    "#Calculate the area of a circle and assign the value to a variable name of _area_of_circle_\n",
    "PI = 3.14\n",
    "radius = float(input('Enter the radius of a circle: '))\n",
    " \n",
    "circumference = 2 * PI * radius\n",
    "area = PI * radius * radius\n",
    " \n",
    "print(\" Circumference Of a Circle = %.2f\"%circumference)\n",
    "print(\" Area Of a Circle = %.2f\" %area)"
   ]
  },
  {
   "cell_type": "code",
   "execution_count": 9,
   "id": "79d1a6c8",
   "metadata": {},
   "outputs": [
    {
     "name": "stdout",
     "output_type": "stream",
     "text": [
      "length of unique words   10\n"
     ]
    }
   ],
   "source": [
    "#How many unique words have been used in the sentence? Use the split methods and set to get the unique words.\n",
    "\n",
    "line = \"I am a teacher and I love to inspire and teach people\"\n",
    "unique_letter = set(line.split())\n",
    "print(\"length of unique words  \",len(unique_letter))"
   ]
  },
  {
   "cell_type": "code",
   "execution_count": 13,
   "id": "96600c53",
   "metadata": {},
   "outputs": [
    {
     "name": "stdout",
     "output_type": "stream",
     "text": [
      "name\tage\tcountry  \tcity\n",
      "Jaggu\t16\tunited_states\tWarrensburg\n"
     ]
    }
   ],
   "source": [
    "#Use a tab escape sequence to get the following lines.\n",
    "print(\"name\\tage\\tcountry  \\tcity\\nJaggu\\t16\\tunited_states\\tWarrensburg\")"
   ]
  },
  {
   "cell_type": "code",
   "execution_count": 14,
   "id": "e489469e",
   "metadata": {},
   "outputs": [
    {
     "name": "stdout",
     "output_type": "stream",
     "text": [
      "area of circle has radius 10 and its square meters is 314.0 \n"
     ]
    }
   ],
   "source": [
    "#Use the string formatting method to display the following:\n",
    "#radius = 10\n",
    "#area = 3.14 * radius ** 2\n",
    "#“The area of a circle with radius 10 is 314 meters square.”\n",
    "\n",
    "radius = 10\n",
    "area = 3.14 * radius ** 2\n",
    "print(\"area of circle has radius %s and its square meters is %s \" %(radius,area))"
   ]
  },
  {
   "cell_type": "code",
   "execution_count": 15,
   "id": "16e6a46d",
   "metadata": {},
   "outputs": [
    {
     "name": "stdout",
     "output_type": "stream",
     "text": [
      "enter no of students6\n",
      "enter weight020\n",
      "convertion of weight in lbs  [20]\n",
      "cionvertion of weight in kgs  [9.08]\n",
      "enter weight1136\n",
      "convertion of weight in lbs  [20, 136]\n",
      "cionvertion of weight in kgs  [9.08, 61.73]\n",
      "enter weight2369\n",
      "convertion of weight in lbs  [20, 136, 369]\n",
      "cionvertion of weight in kgs  [9.08, 61.73, 167.5]\n",
      "enter weight33\n",
      "convertion of weight in lbs  [20, 136, 369, 3]\n",
      "cionvertion of weight in kgs  [9.08, 61.73, 167.5, 1.36]\n",
      "enter weight422\n",
      "convertion of weight in lbs  [20, 136, 369, 3, 22]\n",
      "cionvertion of weight in kgs  [9.08, 61.73, 167.5, 1.36, 9.99]\n",
      "enter weight566\n",
      "convertion of weight in lbs  [20, 136, 369, 3, 22, 66]\n",
      "cionvertion of weight in kgs  [9.08, 61.73, 167.5, 1.36, 9.99, 29.96]\n"
     ]
    }
   ],
   "source": [
    "#Write a program, which reads weights (lbs.) of N students into a list and convert these weights to\n",
    "#kilograms in a separate list using Loop. N: No of students (Read input from user)\n",
    "students = int(input(\"enter no of students\"))\n",
    "#creating empty list\n",
    "weight_lbs = []\n",
    "weight_kgs = []\n",
    "for stu in range(students):\n",
    "    # get the input of data and adding up to the list\n",
    "    weight_lbs.append(int(input(\"enter weight\"+str(stu)+\"\"))) \n",
    "    #converting lbs to kgs\n",
    "    weight_kgs.append(round(weight_lbs[stu]*0.45392,2))\n",
    "    print(\"convertion of weight in lbs \",weight_lbs)\n",
    "    print(\"cionvertion of weight in kgs \",weight_kgs)"
   ]
  },
  {
   "cell_type": "code",
   "execution_count": null,
   "id": "48adc4f3",
   "metadata": {},
   "outputs": [],
   "source": []
  }
 ],
 "metadata": {
  "kernelspec": {
   "display_name": "Python 3 (ipykernel)",
   "language": "python",
   "name": "python3"
  },
  "language_info": {
   "codemirror_mode": {
    "name": "ipython",
    "version": 3
   },
   "file_extension": ".py",
   "mimetype": "text/x-python",
   "name": "python",
   "nbconvert_exporter": "python",
   "pygments_lexer": "ipython3",
   "version": "3.11.1"
  }
 },
 "nbformat": 4,
 "nbformat_minor": 5
}
